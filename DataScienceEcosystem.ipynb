{
 "cells": [
  {
   "cell_type": "markdown",
   "id": "b865f11c",
   "metadata": {},
   "source": [
    "# Data Science Tools and Ecosystem #"
   ]
  },
  {
   "cell_type": "markdown",
   "id": "e03f8efc",
   "metadata": {},
   "source": [
    "###  In this notebook, Data Science Tools and Ecosystem are summarized."
   ]
  },
  {
   "cell_type": "markdown",
   "id": "5797d63e",
   "metadata": {},
   "source": [
    "**Objectives**"
   ]
  },
  {
   "cell_type": "markdown",
   "id": "9f966921",
   "metadata": {},
   "source": [
    "+ List popular languages for data science\n",
    "+ Tools for Data analysis\n",
    "+ Libraries, API \n"
   ]
  },
  {
   "cell_type": "markdown",
   "id": "65d36e60",
   "metadata": {},
   "source": [
    "Some of the popular languages that Data Scientists use are:\n"
   ]
  },
  {
   "cell_type": "markdown",
   "id": "c97ddc73",
   "metadata": {},
   "source": [
    "1. Python\n",
    "2. Julia\n",
    "3. R"
   ]
  },
  {
   "cell_type": "markdown",
   "id": "f5da8444",
   "metadata": {},
   "source": [
    "Some of the commonly used libraries used by Data Scientists include:"
   ]
  },
  {
   "cell_type": "markdown",
   "id": "649d242c",
   "metadata": {},
   "source": [
    "1. Pandas\n",
    "2. Matplotlib\n",
    "3. Sklearn"
   ]
  },
  {
   "cell_type": "markdown",
   "id": "5e6ce731",
   "metadata": {},
   "source": [
    "|Data Science Tools|\n",
    "|------------------|\n",
    "|RStudio|\n",
    "|Apache Spark|\n",
    "|Tensor Flow|\n"
   ]
  },
  {
   "cell_type": "markdown",
   "id": "3fd7d7d4",
   "metadata": {},
   "source": [
    "### Below are a few examples of evaluating arithmetic expressions in Python ###\n",
    "\n"
   ]
  },
  {
   "cell_type": "markdown",
   "id": "158ab2e8",
   "metadata": {},
   "source": [
    "This a simple arithmetic expression to mutiply then add integers"
   ]
  },
  {
   "cell_type": "code",
   "execution_count": 17,
   "id": "b0fe08ed",
   "metadata": {},
   "outputs": [
    {
     "data": {
      "text/plain": [
       "17"
      ]
     },
     "execution_count": 17,
     "metadata": {},
     "output_type": "execute_result"
    }
   ],
   "source": [
    "(3*4)+5"
   ]
  },
  {
   "cell_type": "markdown",
   "id": "8acef76e",
   "metadata": {},
   "source": [
    " This will convert 200 minutes to hours by diving by 60"
   ]
  },
  {
   "cell_type": "markdown",
   "id": "f801c078",
   "metadata": {},
   "source": [
    "(200/60)"
   ]
  },
  {
   "cell_type": "markdown",
   "id": "e689b4f8",
   "metadata": {},
   "source": []
  },
  {
   "cell_type": "markdown",
   "id": "fe043981",
   "metadata": {},
   "source": [
    "## Author ##"
   ]
  },
  {
   "cell_type": "markdown",
   "id": "357eec81",
   "metadata": {},
   "source": [
    "Arya"
   ]
  },
  {
   "cell_type": "code",
   "execution_count": null,
   "id": "6474732b",
   "metadata": {},
   "outputs": [],
   "source": []
  }
 ],
 "metadata": {
  "kernelspec": {
   "display_name": "Python 3 (ipykernel)",
   "language": "python",
   "name": "python3"
  },
  "language_info": {
   "codemirror_mode": {
    "name": "ipython",
    "version": 3
   },
   "file_extension": ".py",
   "mimetype": "text/x-python",
   "name": "python",
   "nbconvert_exporter": "python",
   "pygments_lexer": "ipython3",
   "version": "3.11.5"
  }
 },
 "nbformat": 4,
 "nbformat_minor": 5
}
